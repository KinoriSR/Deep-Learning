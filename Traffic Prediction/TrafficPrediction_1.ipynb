{
 "cells": [
  {
   "cell_type": "code",
   "execution_count": 2,
   "metadata": {},
   "outputs": [],
   "source": [
    "%matplotlib inline\n",
    "\n",
    "import torch\n",
    "import numpy as np\n",
    "import torch.nn as nn # CTCLoss, Linear, Module, LSTM, Conv1d, ReLU, Dropout, Sigmoid, Tanh, RNN, LSMT#, LogSoftmax\n",
    "from torch.nn.functional import log_softmax, softmax\n",
    "from torch.utils.data import Dataset, DataLoader\n",
    "import torchvision\n",
    "from torch import optim\n",
    "from time import time\n",
    "import math\n",
    "import os\n",
    "\n",
    "import matplotlib.pyplot as plt\n",
    "from pathlib import Path\n",
    "from helper import load_data_etc, load_adj_matrix_etc"
   ]
  },
  {
   "cell_type": "code",
   "execution_count": 3,
   "metadata": {},
   "outputs": [],
   "source": [
    "# NOTE: if can't open .npz file, must trust notebook first\n",
    "root = Path(\".\")\n",
    "data_file = root / \"data_etc.npz\"\n",
    "res_dict = load_data_etc(str(data_file))\n",
    "\n",
    "adj_file = root / \"adj_matrix_etc.npz\"\n",
    "adj_dict = load_adj_matrix_etc(str(adj_file))"
   ]
  },
  {
   "cell_type": "code",
   "execution_count": 23,
   "metadata": {},
   "outputs": [],
   "source": [
    "class MyDataset(Dataset):\n",
    "    def __init__(self, X, window = 100):\n",
    "        self.X = X\n",
    "        self.window = window\n",
    "\n",
    "    def __len__(self):\n",
    "        return len(self.X) - (self.window + 1) + 1\n",
    "\n",
    "    def __getitem__(self, index):\n",
    "#         return torch.tensor(self.X[index : index + self.window]).unsqueeze(0), torch.tensor(self.X[index + 1 : index + self.window + 1]).unsqueeze(0)\n",
    "        return np.expand_dims(self.X[index : index + self.window], axis=0), np.expand_dims(self.X[index + 1 : index + self.window + 1], axis=0)\n",
    "def collate_train(batch_data):\n",
    "    X = []\n",
    "    Y = []\n",
    "    for tup in batch_data:\n",
    "        X.append(tup[0])\n",
    "        Y.append(tup[1])\n",
    "    X = np.concatenate(X, axis=0)\n",
    "    Y = np.concatenate(Y, axis=0)\n",
    "    \n",
    "    # fill the NaN values with the average of existing values in array\n",
    "    X = np.nan_to_num(X, nan=np.mean(X[X==X]))\n",
    "    Y = np.nan_to_num(Y, nan=np.mean(Y[Y==Y]))\n",
    "    \n",
    "    X = torch.DoubleTensor(X) #, dtype=torch.double)\n",
    "    Y = torch.DoubleTensor(Y) #, dtype=torch.double)\n",
    "#     assert(not torch.isnan(X).any())\n",
    "    return X, Y\n",
    "\n",
    "'''\n",
    "data: numpy array of data\n",
    "train_split: percentage used for train\n",
    "window: time series length\n",
    "'''\n",
    "def train_dev_split_random(data, train_split, window=15, random=False):\n",
    "    print(data.shape)\n",
    "    # create list of sections\n",
    "    \n",
    "    sequences = []\n",
    "    for i in range(len(data)//window):\n",
    "        sequences.append(data[i*window:(i+1)*window])\n",
    "\n",
    "    # randomly select sections for dev\n",
    "    dev_sequences = []\n",
    "    n_dev_sequences = math.floor((len(data)/window)*(1-train_split))\n",
    "    for j in range(n_dev_sequences):\n",
    "        if random:\n",
    "            index = torch.randint(0, len(sequences), (1,)).item()\n",
    "        else:\n",
    "            index=-j\n",
    "        dev_sequences.append(sequences[index])\n",
    "        sequences = sequences[:index] + sequences[index+1:]\n",
    "\n",
    "    return sequences, dev_sequences\n",
    "\n",
    "def train_dev_split_startend(data, train_ratio, window=15):\n",
    "    # randomly select sections for dev\n",
    "    n_dev_sequences = math.floor((len(data)/window)*(1-train_ratio))*window\n",
    "    dev_split = data[-(n_dev_sequences+1):] # shifted by 1 for one more timestep label\n",
    "    train_split = data[:-(n_dev_sequences+1)]\n",
    "\n",
    "    return train_split, dev_split\n",
    "\n",
    "def get_loaders(batchsize, collatefn):\n",
    "    train_split, dev_split = train_dev_split_startend(res_dict['data'], 0.9, window=WINDOW)\n",
    "    train_dataset = MyDataset(train_split, window=WINDOW)\n",
    "    train_loader_args = dict(shuffle=True, batch_size=batchsize, num_workers=numworkers, pin_memory=True, collate_fn=collatefn) if cuda else dict(shuffle=True, batch_size=batchsize, collate_fn=collate_train)\n",
    "    train_loader = DataLoader(train_dataset, **train_loader_args)\n",
    "\n",
    "    dev_dataset = MyDataset(dev_split, window=WINDOW)\n",
    "    dev_loader = DataLoader(dev_dataset, **train_loader_args)\n",
    "    \n",
    "    return train_loader, dev_loader, train_split.shape[0]\n",
    "\n",
    "def get_datasets():\n",
    "    train_split, dev_split = train_dev_split_startend(res_dict['data'], 0.9, window=WINDOW)\n",
    "    train_dataset = MyDataset(train_split, window=WINDOW)\n",
    "    dev_dataset = MyDataset(dev_split, window=WINDOW)\n",
    "    return train_dataset, dev_dataset"
   ]
  },
  {
   "cell_type": "markdown",
   "metadata": {},
   "source": [
    "## Loss"
   ]
  },
  {
   "cell_type": "code",
   "execution_count": 5,
   "metadata": {},
   "outputs": [],
   "source": [
    "class Loss(nn.Module):\n",
    "    def __init__(self):\n",
    "        super().__init__()\n",
    "\n",
    "    def forward(self, std, mean, y):\n",
    "        \"\"\"\n",
    "        Maximizing Negative Log-Likelihood Loss(y|mean,std**2)\n",
    "        Args:\n",
    "            std: standard deviation per sensor (output from model)\n",
    "            mean: mean per sensor (output from model)\n",
    "            y: ground truth data that should be be contained within the normal distribution\n",
    "        \"\"\"\n",
    "        variance = std**2 + 1e-10 # add epsilon so no log(0)\n",
    "        batchsize = y.shape[0]\n",
    "        n = y.shape[3] # n lanes for each sensor\n",
    "\n",
    "        distance_squared_sum = torch.zeros(y[:,:,:,0].shape).to(DEVICE)\n",
    "\n",
    "        # sum the 4 real data point squared distances from the mean\n",
    "        for i in range(n):\n",
    "            distance_squared_sum += (y[:,:,:,i] - mean)**2\n",
    "        # Loss(y|mean,std**2)\n",
    "        loss = (n/2)*torch.log(variance)+(1/(2*variance)) * distance_squared_sum\n",
    "        \n",
    "        # mean -log likelihood\n",
    "        loss = loss.mean()\n",
    "        return loss"
   ]
  },
  {
   "cell_type": "code",
   "execution_count": 6,
   "metadata": {},
   "outputs": [],
   "source": [
    "from torch.nn.utils.rnn import pack_padded_sequence, pad_packed_sequence, pad_sequence\n",
    "\n",
    "class Model(nn.Module):\n",
    "    def __init__(self, window, conv_out_channel=512, conv_kernel_size=1, conv_stride=1, hidden_size=512, sensors=200, features=4):\n",
    "        super(Model, self).__init__()\n",
    "        self.input_size = sensors*features\n",
    "        self.conv1d = nn.Conv1d(self.input_size, conv_out_channel, kernel_size=conv_kernel_size, stride=1)\n",
    "        self.lstm = nn.LSTM(conv_out_channel, hidden_size, num_layers=1, batch_first=True) # num_directions=True\n",
    "        self.linear_std = nn.Linear(hidden_size, 200)\n",
    "        self.linear_mean = nn.Linear(hidden_size, 200)\n",
    "        \n",
    "    def forward(self, X):\n",
    "#         assert(not torch.isnan(X).any())\n",
    "        X = X.reshape((X.shape[0], X.shape[1], self.input_size)).permute(0,2,1)\n",
    "#         print(X.shape)\n",
    "        outputs = self.conv1d(X)\n",
    "#         print(outputs.shape)\n",
    "        outputs = outputs.permute(0,2,1)\n",
    "#         print(outputs.shape)\n",
    "        outputs = self.lstm(outputs)[0]\n",
    "#         print(outputs.shape)\n",
    "        std = self.linear_std(outputs)\n",
    "        mean = self.linear_mean(outputs)\n",
    "        \n",
    "        return std, mean"
   ]
  },
  {
   "cell_type": "code",
   "execution_count": 7,
   "metadata": {},
   "outputs": [],
   "source": [
    "def save_state(val_loss, running_best, model_version, model_number, model, optimizer, criterion, batch_size):\n",
    "    path = './models/model_' + str(model_version) + '_'+str(model_number)\n",
    "    if not os.path.isdir(path):\n",
    "        os.makedirs(path)\n",
    "    torch.save(model, path+'/model.pt')\n",
    "    # write parameter tracking file\n",
    "    parameter_file = open(path+'/hyperparameters.txt', 'w')\n",
    "    parameter_file.write('Validation Loss:\\n' + str(val_loss))\n",
    "    parameter_file.write('\\nRunning Best Validation Loss:\\n' + str(running_best[0]) + \"  \" + str(running_best[1]))\n",
    "    parameter_file.write('\\nbatch_size:\\n' + str(batch_size))\n",
    "    parameter_file.write('\\nOptimizer:\\n' + str(optimizer))\n",
    "    parameter_file.write('\\nCriterion:\\n' + str(criterion))\n",
    "    parameter_file.write('\\nModel:\\n' + str(model))\n",
    "    parameter_file.close()\n",
    "    \n",
    "def validate(model, loader):\n",
    "    model.eval()\n",
    "    with torch.no_grad():\n",
    "        running_loss = 0\n",
    "        for i, (x,y) in enumerate(loader):\n",
    "            x = x.to(DEVICE)\n",
    "            y = y.to(DEVICE)\n",
    "\n",
    "            std, mean = model(x)\n",
    "\n",
    "            running_loss += criterion(std, mean, y).detach().item()\n",
    "\n",
    "            print(\"Validation iteration {}                                  \".format(i), end='\\r')\n",
    "\n",
    "    model.train()\n",
    "    return running_loss/(i+1)"
   ]
  },
  {
   "cell_type": "code",
   "execution_count": 18,
   "metadata": {},
   "outputs": [],
   "source": [
    "model_version = 1 # <============================ ALWAYS CHECK THIS ==============================<<<<<<\n",
    "WINDOW = 100 # change to 20 for short term predictions?\n",
    "EPOCHS = 50\n",
    "cuda = True\n",
    "DEVICE = torch.device(\"cuda\" if cuda else \"cpu\")\n",
    "numworkers = 4 if cuda else 0 # FIX\n",
    "batchsize = 32 if cuda else 64\n",
    "train_loader, dev_loader, LEN_TRAIN = get_loaders(batchsize, collate_train)\n",
    "\n",
    "model = Model(WINDOW, hidden_size=512).double().to(DEVICE)\n",
    "\n",
    "optimizer = optim.Adam(model.parameters(),lr=0.001)#, weight_decay=1e-6)\n",
    "#optim.SGD(model.parameters(), lr=15, momentum=0.9, weight_decay=5e-6)\n",
    "mile_stones = [30]\n",
    "gamma = 0.1\n",
    "scheduler = optim.lr_scheduler.MultiStepLR(optimizer, milestones=mile_stones, gamma=gamma)\n",
    "criterion = Loss()"
   ]
  },
  {
   "cell_type": "markdown",
   "metadata": {},
   "source": [
    "## Training"
   ]
  },
  {
   "cell_type": "code",
   "execution_count": null,
   "metadata": {
    "tags": []
   },
   "outputs": [
    {
     "name": "stdout",
     "output_type": "stream",
     "text": [
      "Epoch 0 Loss: 31718323.79154318 Val Loss: 7388.36660783606                                          5       \n",
      "Time for Epoch: 271.8977494239807\n",
      "\tRunning Best: Model_1_0 7388.36660783606\n",
      "\n",
      "Epoch 1 Loss: 31723581.72202013 Val Loss: 4536.572662675116                                                 \n",
      "Time for Epoch: 272.9719979763031\n",
      "\tRunning Best: Model_1_1 4536.572662675116\n",
      "\n",
      "Epoch 2 Loss: 31727086.96656804 Val Loss: 3226.6089935330992                                                \n",
      "Time for Epoch: 274.28747487068176\n",
      "\tRunning Best: Model_1_2 3226.6089935330992\n",
      "\n",
      "Epoch 3 Loss: 31729638.258722045 Val Loss: 2386.5400255233985                                               \n",
      "Time for Epoch: 274.6894326210022\n",
      "\tRunning Best: Model_1_3 2386.5400255233985\n",
      "\n",
      "Epoch 4 Loss: 31731566.64681908 Val Loss: 1857.657296399478                                                 \n",
      "Time for Epoch: 274.7323591709137\n",
      "\tRunning Best: Model_1_4 1857.657296399478\n",
      "\n",
      "Epoch 5 Loss: 31733079.517732374 Val Loss: 1469.1213451787316                                               \n",
      "Time for Epoch: 274.90109610557556\n",
      "\tRunning Best: Model_1_5 1469.1213451787316\n",
      "\n",
      "Epoch 6 Loss: 31734282.66694254 Val Loss: 1173.5869356269304                                                \n",
      "Time for Epoch: 274.52794671058655\n",
      "\tRunning Best: Model_1_6 1173.5869356269304\n",
      "\n",
      "Epoch 7 Loss: 31735246.5872097 Val Loss: 943.7305504040083                                                  \n",
      "Time for Epoch: 274.17460203170776\n",
      "\tRunning Best: Model_1_7 943.7305504040083\n",
      "\n",
      "Epoch 8 Loss: 31736022.128907647 Val Loss: 760.3757738989957                                                \n",
      "Time for Epoch: 273.51696252822876\n",
      "\tRunning Best: Model_1_8 760.3757738989957\n",
      "\n",
      "Epoch 9 Loss: 31736647.708777193 Val Loss: 612.3988545295364                                                \n",
      "Time for Epoch: 274.2174346446991\n",
      "\tRunning Best: Model_1_9 612.3988545295364\n",
      "\n",
      "Epoch 10 Loss: 31737153.226737063 Val Loss: 494.6662341250356                                                \n",
      "Time for Epoch: 274.90796160697937\n",
      "\tRunning Best: Model_1_10 494.6662341250356\n",
      "\n",
      "Epoch 11 Loss: 31737562.326231014 Val Loss: 399.62303351437225                                               \n",
      "Time for Epoch: 274.81389451026917\n",
      "\tRunning Best: Model_1_11 399.62303351437225\n",
      "\n",
      "Epoch 12 Loss: 31737893.841959983 Val Loss: 323.4880402866438                                                \n",
      "Time for Epoch: 274.641841173172\n",
      "\tRunning Best: Model_1_12 323.4880402866438\n",
      "\n",
      "Epoch 13 Loss: 31738162.83696668 Val Loss: 262.3993834576302                                                 \n",
      "Time for Epoch: 274.75233149528503\n",
      "\tRunning Best: Model_1_13 262.3993834576302\n",
      "\n",
      "Epoch 14 Loss: 31738381.401434243 Val Loss: 212.91304048694346                                               \n",
      "Time for Epoch: 274.4261083602905\n",
      "\tRunning Best: Model_1_14 212.91304048694346\n",
      "\n",
      "Epoch 15 Loss: 31738559.245347574 Val Loss: 172.24282749370806                                               \n",
      "Time for Epoch: 273.7523331642151\n",
      "\tRunning Best: Model_1_15 172.24282749370806\n",
      "\n",
      "Epoch 16 Loss: 31738704.192565918 Val Loss: 140.25061957067837                                               \n",
      "Time for Epoch: 274.36279821395874\n",
      "\tRunning Best: Model_1_16 140.25061957067837\n",
      "\n",
      "Epoch 17 Loss: 31738822.594210666 Val Loss: 113.64035681533792                                               \n",
      "Time for Epoch: 274.9010944366455\n",
      "\tRunning Best: Model_1_17 113.64035681533792\n",
      "\n",
      "Epoch 18 Loss: 31738919.604253493 Val Loss: 92.70272145849219                                                \n",
      "Time for Epoch: 275.02114748954773\n",
      "\tRunning Best: Model_1_18 92.70272145849219\n",
      "\n",
      "Epoch 19 Loss: 31738999.40254868 Val Loss: 75.97388701472428                                                 \n",
      "Time for Epoch: 275.01133394241333\n",
      "\tRunning Best: Model_1_19 75.97388701472428\n",
      "\n",
      "Epoch 20 Loss: 31739065.369198058 Val Loss: 62.45946007828429                                                \n",
      "Time for Epoch: 274.83371329307556\n",
      "\tRunning Best: Model_1_20 62.45946007828429\n",
      "\n",
      "Epoch 21 Loss: 31739120.222382598 Val Loss: 51.4891792190105                                          6      \n",
      "Time for Epoch: 274.4648230075836\n",
      "\tRunning Best: Model_1_21 51.4891792190105\n",
      "\n",
      "Epoch 22 Loss: 31739166.15031401 Val Loss: 42.88241980537515                                                 \n",
      "Time for Epoch: 273.91466999053955\n",
      "\tRunning Best: Model_1_22 42.88241980537515\n",
      "\n",
      "Epoch 23 Loss: 31739204.919783216 Val Loss: 35.9640404178808                                          8      \n",
      "Time for Epoch: 274.4426341056824\n",
      "\tRunning Best: Model_1_23 35.9640404178808\n",
      "\n",
      "Epoch 24 Loss: 31739237.95978025 Val Loss: 30.419002505664253                                                \n",
      "Time for Epoch: 275.0380115509033\n",
      "\tRunning Best: Model_1_24 30.419002505664253\n",
      "\n",
      "Epoch 25 Loss: 31739266.427869007 Val Loss: 25.999973011320282                                               \n",
      "Time for Epoch: 275.0097143650055\n",
      "\tRunning Best: Model_1_25 25.999973011320282\n",
      "\n",
      "Epoch 26 Loss: 31739291.257571317 Val Loss: 22.598323098791024                                               \n",
      "Time for Epoch: 274.97576332092285\n",
      "\tRunning Best: Model_1_26 22.598323098791024\n",
      "\n",
      "Epoch 27 Loss: 31739313.199263375 Val Loss: 19.857759655190694                                               \n",
      "Time for Epoch: 275.116491317749\n",
      "\tRunning Best: Model_1_27 19.857759655190694\n",
      "\n",
      "Epoch 28 Loss: 31739332.85117729 Val Loss: 17.75730567485982                                                 \n",
      "Time for Epoch: 274.47306275367737\n",
      "\tRunning Best: Model_1_28 17.75730567485982\n",
      "\n",
      "Epoch 29 Loss: 31739350.691390898 Val Loss: 16.041313188804764                                               \n",
      "Time for Epoch: 273.9846704006195\n",
      "\tRunning Best: Model_1_29 16.041313188804764\n",
      "\n",
      "Epoch 30 Loss: 31739367.68172534 Val Loss: 15.912208356443404                                                \n",
      "Time for Epoch: 274.43126130104065\n",
      "\tRunning Best: Model_1_30 15.912208356443404\n",
      "\n",
      "Epoch 31 Loss: 31739384.49925932 Val Loss: 15.70160907775858                                                 \n",
      "Time for Epoch: 274.7974543571472\n",
      "\tRunning Best: Model_1_31 15.70160907775858\n",
      "\n",
      "Epoch 32 Loss: 31739401.114864938 Val Loss: 15.470376344399023                                               \n",
      "Time for Epoch: 275.1637980937958\n",
      "\tRunning Best: Model_1_32 15.470376344399023\n",
      "\n",
      "Epoch 33 Loss: 31739417.503205556 Val Loss: 15.234930132134908                                               \n",
      "Time for Epoch: 274.9345998764038\n",
      "\tRunning Best: Model_1_33 15.234930132134908\n",
      "\n",
      "Epoch 34 Loss: 31739433.642388243 Val Loss: 14.955722854359525                                               \n",
      "Time for Epoch: 274.90602564811707\n",
      "\tRunning Best: Model_1_34 14.955722854359525\n",
      "\n",
      "Epoch 35 Loss: 31739449.514583733 Val Loss: 14.6852866089569                                          5      \n",
      "Time for Epoch: 274.09853887557983\n",
      "\tRunning Best: Model_1_35 14.6852866089569\n",
      "\n",
      "Epoch: 36 | Iteration: 368 | Loss 60382383.026184775 | Projected Time Left 124 | Projected Time Total 261    \r"
     ]
    }
   ],
   "source": [
    "running_loss = 0 \n",
    "running_best = ['', 1e10]\n",
    "model_number = 0 # CHECK THIS <<=================<<<<<\n",
    "train_loss = []\n",
    "predict_loss = []\n",
    "for epoch in range(EPOCHS):\n",
    "    model.train()\n",
    "    ti = time()\n",
    "    for i, (x,y) in enumerate(train_loader):\n",
    "#         if i == 1:\n",
    "#             break\n",
    "        _ti = time()\n",
    "        # print(i,x.shape,y.shape)\n",
    "        x = x.to(DEVICE)\n",
    "        y = y.to(DEVICE)\n",
    "        \n",
    "        optimizer.zero_grad()\n",
    "#         print(x.dtype)\n",
    "        std, mean = model(x)\n",
    "\n",
    "        loss = criterion(std, mean, y)\n",
    "        loss.backward()\n",
    "        optimizer.step()\n",
    "        \n",
    "        running_loss += loss.detach().item()\n",
    "        \n",
    "        _tf = time()\n",
    "        print('Epoch:', epoch, '| Iteration:', i, '| Loss', running_loss/(i+1), '| Projected Time Left', int(((LEN_TRAIN//batchsize)-(i+1))*(_tf-_ti)), '| Projected Time Total', int(((LEN_TRAIN//batchsize))*(_tf-_ti)),'   ', end='\\r')\n",
    "    \n",
    "        torch.cuda.empty_cache()\n",
    "\n",
    "    val_loss = validate(model, dev_loader)\n",
    "    print(\"Epoch\", epoch, \"Loss:\", running_loss/(i+1), \"Val Loss:\", val_loss, \"                                          \")\n",
    "    if running_best[1] > val_loss:\n",
    "        running_best[0] = 'Model_' + str(model_version) + '_' + str(model_number)\n",
    "        running_best[1] = val_loss\n",
    "    print(\"Time for Epoch:\", time() - ti)\n",
    "    print(\"\\tRunning Best:\", *running_best)\n",
    "    print()\n",
    "    scheduler.step()\n",
    "    \n",
    "    save_state(val_loss, running_best, model_version, model_number, model, optimizer, criterion, batchsize)\n",
    "    \n",
    "    train_loss.append(running_loss/(i+1))\n",
    "    predict_loss.append(val_loss)\n",
    "    \n",
    "    model_number += 1\n"
   ]
  },
  {
   "cell_type": "markdown",
   "metadata": {},
   "source": [
    "## Visualizaions"
   ]
  },
  {
   "cell_type": "code",
   "execution_count": 16,
   "metadata": {},
   "outputs": [
    {
     "data": {
      "image/png": "[encoded data removed]",
      "text/plain": [
       "<Figure size 432x288 with 1 Axes>"
      ]
     },
     "metadata": {
      "needs_background": "light"
     },
     "output_type": "display_data"
    }
   ],
   "source": [
    "# model_1_\n",
    "val_loss=[7388.36660783606  ,4536.572662675116 ,3226.6089935330992,2386.5400255233985,1857.657296399478 ,1469.1213451787316,1173.5869356269304,943.7305504040083 ,760.3757738989957 ,612.3988545295364 ,494.6662341250356 ,399.62303351437225,323.4880402866438 ,262.3993834576302 ,212.91304048694346,172.24282749370806,140.25061957067837,113.64035681533792,92.70272145849219 ,75.97388701472428 ,62.45946007828429 ,51.4891792190105  ,42.88241980537515 ,35.9640404178808  ,30.419002505664253,25.999973011320282,22.598323098791024,19.857759655190694,17.75730567485982 ,16.041313188804764,15.912208356443404,15.70160907775858,15.470376344399023,15.234930132134908,14.955722854359525,14.6852866089569]\n",
    "train_loss=[31718323.79154318 ,31723581.72202013 ,31727086.96656804 ,31729638.258722045,31731566.64681908 ,31733079.517732374,31734282.66694254 ,31735246.5872097  ,31736022.128907647,31736647.708777193,31737153.226737063,31737562.326231014,31737893.841959983,31738162.83696668 ,31738381.401434243,31738559.245347574,31738704.192565918,31738822.594210666,31738919.604253493,31738999.40254868 ,31739065.369198058,31739120.222382598,31739166.15031401 ,31739204.919783216,31739237.95978025 ,31739266.427869007,31739291.257571317,31739313.199263375,31739332.85117729 ,31739350.691390898,31739367.68172534 ,31739384.49925932 ,31739401.114864938,31739417.503205556,31739433.642388243,31739449.514583733]\n",
    "plt.figure()\n",
    "# plt.plot(range(len(predict_loss)), train_loss, label=\"Train Loss\")\n",
    "plt.plot(range(len(val_loss)), val_loss, label=\"Validation Loss\")\n",
    "plt.xlabel('Epochs')\n",
    "plt.ylabel('- log likelihood')\n",
    "plt.legend()\n",
    "plt.show()"
   ]
  },
  {
   "cell_type": "code",
   "execution_count": 19,
   "metadata": {},
   "outputs": [
    {
     "data": {
      "image/png": "[encoded data removed]",
      "text/plain": [
       "<Figure size 432x288 with 1 Axes>"
      ]
     },
     "metadata": {
      "needs_background": "light"
     },
     "output_type": "display_data"
    }
   ],
   "source": [
    "plt.figure()\n",
    "plt.plot(range(len(val_loss)), train_loss, label=\"Train Loss\", color='orange')\n",
    "plt.xlabel('Epochs')\n",
    "plt.ylabel('- log likelihood')\n",
    "plt.legend()\n",
    "plt.show()"
   ]
  },
  {
   "cell_type": "markdown",
   "metadata": {},
   "source": [
    "## Predict"
   ]
  },
  {
   "cell_type": "code",
   "execution_count": 100,
   "metadata": {},
   "outputs": [],
   "source": [
    "WINDOW = 100\n",
    "cuda = True\n",
    "DEVICE = torch.device(\"cuda\" if cuda else \"cpu\")\n",
    "model_version = 1\n",
    "model_number =35\n",
    "path = './models/model_{}_{}/model.pt'.format(model_version, model_number)\n",
    "model = torch.load(path).to(DEVICE)"
   ]
  },
  {
   "cell_type": "code",
   "execution_count": 87,
   "metadata": {},
   "outputs": [],
   "source": [
    "def predict(model, loader=None, data_batch=None, lead=99, num_steps=1):\n",
    "#     if not loader and not data_batch:\n",
    "#         raise(\"Must provide a batch of data or a loader.\")\n",
    "    model.eval\n",
    "    with torch.no_grad():\n",
    "#         if loader!=None:\n",
    "#             for i, (x,y) in enumerate(loader):\n",
    "#                 x=x.to(DEVICE)\n",
    "#                 y=y.to(DEVICE)\n",
    "                \n",
    "#                 print(x.shape)\n",
    "#                 std, mean = model(x[:,99])\n",
    "                \n",
    "#                 return std[:,-num_steps], mean[:,-num_steps]\n",
    "#         else:\n",
    "        data_batch=data_batch.to(DEVICE)\n",
    "\n",
    "        std, mean = model(data_batch)\n",
    "        return std[:,-num_steps].to('cpu').numpy(), mean[:,-num_steps].to('cpu').numpy()\n"
   ]
  },
  {
   "cell_type": "code",
   "execution_count": 82,
   "metadata": {},
   "outputs": [
    {
     "name": "stdout",
     "output_type": "stream",
     "text": [
      "torch.Size([1, 100, 200, 4]) torch.Size([1, 100, 200, 4])\n"
     ]
    }
   ],
   "source": [
    "_, dev_dataset = get_datasets()\n",
    "x = torch.DoubleTensor(dev_dataset[0][0])\n",
    "y = torch.DoubleTensor(dev_dataset[0][1])\n",
    "print(x.shape, y.shape)\n"
   ]
  },
  {
   "cell_type": "code",
   "execution_count": 112,
   "metadata": {},
   "outputs": [
    {
     "name": "stdout",
     "output_type": "stream",
     "text": [
      "torch.Size([1, 100, 200])\n",
      "(1, 200) (1, 200)\n",
      "0 60.73566654428308 4.6016462639968525\n",
      "2 63.582710568990734 -8.959671589266371\n",
      "100 64.96206305161374 4.861819481547735\n",
      "199 62.8511919144734 6.445876154178205\n"
     ]
    }
   ],
   "source": [
    "std, mean = predict(model, data_batch=x)\n",
    "\n",
    "print(std.shape,mean.shape)\n",
    "print('0',mean[0][0], std[0][0])\n",
    "print('2',mean[0][2], std[0][2])\n",
    "print('100',mean[0][100], std[0][100])\n",
    "print('199',mean[0][199], std[0][199])"
   ]
  },
  {
   "cell_type": "code",
   "execution_count": 110,
   "metadata": {},
   "outputs": [
    {
     "data": {
      "image/png": "[encoded data removed]",
      "text/plain": [
       "<Figure size 432x288 with 1 Axes>"
      ]
     },
     "metadata": {
      "needs_background": "light"
     },
     "output_type": "display_data"
    }
   ],
   "source": [
    "sensor = 199 # 0, 2, 100, 199\n",
    "\n",
    "\n",
    "inp = x[0,:,0].numpy()\n",
    "# label = y[0,-1,0]\n",
    "plt.figure()\n",
    "plt.plot(range(x.shape[1]), inp)\n",
    "plt.plot([100],mean[0,sensor], 'o', color='black', markersize=5)\n",
    "plt.plot([100],mean[0,sensor]+std[0,sensor], 'o', color='grey', markersize=5)\n",
    "plt.plot([100],mean[0,sensor]-std[0,sensor], 'o', color='grey', markersize=5)\n",
    "\n",
    "\n",
    "# https://matplotlib.org/gallery/lines_bars_and_markers/errorbar_subsample.html#sphx-glr-gallery-lines-bars-and-markers-errorbar-subsample-py\n",
    "# y1 = mean[0,0] + std[0,0]\n",
    "# y2 = mean[0,0] - std[0,0]\n",
    "# plt.errorbar([100], mean[0,0], yerr=y1)\n",
    "# plt.errorbar([100], mean[0,0], yerr=y2)\n",
    "\n",
    "plt.xlabel('Time (5min intervals)')\n",
    "plt.ylabel('Speed')\n",
    "plt.show()"
   ]
  },
  {
   "cell_type": "code",
   "execution_count": 80,
   "metadata": {},
   "outputs": [
    {
     "data": {
      "text/plain": [
       "tensor(2.5417, device='cuda:0', dtype=torch.float64)"
      ]
     },
     "execution_count": 80,
     "metadata": {},
     "output_type": "execute_result"
    }
   ],
   "source": [
    "std[0,0]"
   ]
  },
  {
   "cell_type": "code",
   "execution_count": 98,
   "metadata": {},
   "outputs": [
    {
     "ename": "AttributeError",
     "evalue": "module 'matplotlib.pyplot' has no attribute '__version__'",
     "output_type": "error",
     "traceback": [
      "\u001b[0;31m---------------------------------------------------------------------------\u001b[0m",
      "\u001b[0;31mAttributeError\u001b[0m                            Traceback (most recent call last)",
      "\u001b[0;32m<ipython-input-98-258ef2d68aad>\u001b[0m in \u001b[0;36m<module>\u001b[0;34m\u001b[0m\n\u001b[0;32m----> 1\u001b[0;31m \u001b[0mplt\u001b[0m\u001b[0;34m.\u001b[0m\u001b[0m__version__\u001b[0m\u001b[0;34m\u001b[0m\u001b[0;34m\u001b[0m\u001b[0m\n\u001b[0m",
      "\u001b[0;31mAttributeError\u001b[0m: module 'matplotlib.pyplot' has no attribute '__version__'"
     ]
    }
   ],
   "source": [
    "plt.__version__\n"
   ]
  },
  {
   "cell_type": "code",
   "execution_count": 99,
   "metadata": {},
   "outputs": [
    {
     "data": {
      "text/plain": [
       "'3.1.3'"
      ]
     },
     "execution_count": 99,
     "metadata": {},
     "output_type": "execute_result"
    }
   ],
   "source": [
    "import matplotlib\n",
    "matplotlib.__version__"
   ]
  },
  {
   "cell_type": "code",
   "execution_count": null,
   "metadata": {},
   "outputs": [],
   "source": []
  }
 ],
 "metadata": {
  "kernelspec": {
   "display_name": "Python 3",
   "language": "python",
   "name": "python3"
  },
  "language_info": {
   "codemirror_mode": {
    "name": "ipython",
    "version": 3
   },
   "file_extension": ".py",
   "mimetype": "text/x-python",
   "name": "python",
   "nbconvert_exporter": "python",
   "pygments_lexer": "ipython3",
   "version": "3.7.6"
  }
 },
 "nbformat": 4,
 "nbformat_minor": 2
}
